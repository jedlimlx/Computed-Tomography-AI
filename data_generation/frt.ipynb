{
 "cells": [
  {
   "cell_type": "code",
   "execution_count": 548,
   "outputs": [],
   "source": [
    "import tensorflow as tf\n",
    "import numpy as np"
   ],
   "metadata": {
    "collapsed": false,
    "pycharm": {
     "name": "#%%\n"
    }
   }
  },
  {
   "cell_type": "code",
   "execution_count": 549,
   "outputs": [],
   "source": [
    "pole = np.sqrt(3) - 2\n",
    "l = 6\n",
    "def init_causal_coeff(f):\n",
    "    # first perform interpolation on the axis 1 (axis 0 is batch axis)\n",
    "    _, h, _, _ = f.shape\n",
    "    horizon = min(12, h)  # the minimum iterations is 12\n",
    "    zk = tf.reshape(tf.range(0, horizon, dtype=f.dtype), (1, horizon, 1, 1))\n",
    "    zk = tf.pow(pole, zk + 1)\n",
    "    s = f[:, 0:horizon, ...]\n",
    "\n",
    "    return tf.reduce_sum(s * zk, axis=1, keepdims=True)"
   ],
   "metadata": {
    "collapsed": false,
    "pycharm": {
     "name": "#%%\n"
    }
   }
  },
  {
   "cell_type": "code",
   "execution_count": 550,
   "outputs": [],
   "source": [
    "def init_causal_coeff_py(f, data_length):\n",
    "    horizon = min(12, data_length)\n",
    "    zk = pole\n",
    "    s = f[:, 0, ...]\n",
    "    for k in range(horizon):\n",
    "        s += zk * f[:, k, ...]\n",
    "        zk *= pole\n",
    "    return s"
   ],
   "metadata": {
    "collapsed": false,
    "pycharm": {
     "name": "#%%\n"
    }
   }
  },
  {
   "cell_type": "code",
   "execution_count": 551,
   "outputs": [],
   "source": [
    "def init_anti_causal_coeff(f):\n",
    "    return (pole / (pole - 1)) * f[:, -1:, ...]"
   ],
   "metadata": {
    "collapsed": false,
    "pycharm": {
     "name": "#%%\n"
    }
   }
  },
  {
   "cell_type": "code",
   "execution_count": 552,
   "outputs": [],
   "source": [
    "def cubic_prefilter(f):\n",
    "    n, h, w, c = f.shape\n",
    "    cp = tf.concat([init_causal_coeff(f), f[:, 1:, ...]], axis=1) * l\n",
    "\n",
    "    zp1 = tf.reshape(tf.pow(pole, - tf.range(0, h, dtype=f.dtype)), (1, h, 1, 1))\n",
    "\n",
    "    cp = tf.cumsum(zp1 * cp, axis=1) / zp1\n",
    "    cm = tf.concat([cp[:, :-1, ...], -init_anti_causal_coeff(cp) / pole], axis=1)\n",
    "    zp2 = tf.reshape(tf.pow(pole, tf.range(0, h, dtype=f.dtype) + 1), (1, h, 1, 1))\n",
    "    cm = tf.cumsum(cm * zp2, reverse=True, axis=1) * (-zp1)\n",
    "    return cm"
   ],
   "metadata": {
    "collapsed": false,
    "pycharm": {
     "name": "#%%\n"
    }
   }
  },
  {
   "cell_type": "code",
   "execution_count": 553,
   "outputs": [],
   "source": [
    "def cubic_prefilter_py(f, data_length):\n",
    "    f[:, 0, ...] = l * init_causal_coeff_py(f, data_length)\n",
    "    for k in range(1, data_length):\n",
    "        f[:, k, ...] = l * f[:, k, ...] + pole * f[:, k - 1, ...]\n",
    "    f[:, data_length - 1, ...] = init_anti_causal_coeff(f)\n",
    "    # print(f)\n",
    "    for k in range(data_length - 2, -1, -1):\n",
    "        f[:, k, ...] = pole * (f[:, k + 1, ...] - f[:, k, ...])\n",
    "    return f"
   ],
   "metadata": {
    "collapsed": false,
    "pycharm": {
     "name": "#%%\n"
    }
   }
  },
  {
   "cell_type": "code",
   "execution_count": 554,
   "outputs": [],
   "source": [
    "t = np.reshape(np.linspace(0, 1, 10), (1, 10, 1, 1))"
   ],
   "metadata": {
    "collapsed": false,
    "pycharm": {
     "name": "#%%\n"
    }
   }
  },
  {
   "cell_type": "code",
   "execution_count": 555,
   "outputs": [
    {
     "data": {
      "text/plain": "array([[[[-0.02347995]],\n\n        [[ 0.11740312]],\n\n        [[ 0.22053412]],\n\n        [[ 0.33379372]],\n\n        [[ 0.44429098]],\n\n        [[ 0.55570902]],\n\n        [[ 0.66620626]],\n\n        [[ 0.77946593]],\n\n        [[ 0.88259669]],\n\n        [[ 1.02348066]]]])"
     },
     "execution_count": 555,
     "metadata": {},
     "output_type": "execute_result"
    }
   ],
   "source": [
    "cubic_prefilter_py(t.copy(), 10)"
   ],
   "metadata": {
    "collapsed": false,
    "pycharm": {
     "name": "#%%\n"
    }
   }
  },
  {
   "cell_type": "code",
   "execution_count": 556,
   "outputs": [
    {
     "data": {
      "text/plain": "<tf.Tensor: shape=(1, 10, 1, 1), dtype=float64, numpy=\narray([[[[-0.02347995]],\n\n        [[ 0.11740312]],\n\n        [[ 0.22053412]],\n\n        [[ 0.33379372]],\n\n        [[ 0.44429098]],\n\n        [[ 0.55570902]],\n\n        [[ 0.66620626]],\n\n        [[ 0.77946593]],\n\n        [[ 0.88259669]],\n\n        [[ 1.02348066]]]])>"
     },
     "execution_count": 556,
     "metadata": {},
     "output_type": "execute_result"
    }
   ],
   "source": [
    "cubic_prefilter(t.copy())"
   ],
   "metadata": {
    "collapsed": false,
    "pycharm": {
     "name": "#%%\n"
    }
   }
  },
  {
   "cell_type": "code",
   "execution_count": null,
   "metadata": {
    "collapsed": true,
    "pycharm": {
     "name": "#%%\n"
    }
   },
   "outputs": [],
   "source": [
    "lam = 6\n",
    "zp = np.sqrt(3) - 2\n",
    "def cubic_prefilter(f):\n",
    "    n, h, w, c = f.shape\n",
    "    dtype = f.dtype\n",
    "\n",
    "    zp_fill = tf.fill(shape=(1, h, 1, 1), value=zp, dtype=f.dtype)\n",
    "\n",
    "    cumprod1 = tf.math.cumprod(zp_fill, axis=1)\n",
    "    cumprod2 = tf.math.cumprod(zp_fill, axis=1, reverse=True) * tf.math.pow(zp, h)\n",
    "\n",
    "    cp_bound = lam * (f[:, 0, :, :]) + (1 / (1 - tf.pow(zp, 2 * h))) * tf.reduce_sum((cumprod1 + cumprod2) * f, axis=1)\n",
    "\n",
    "    cp = tf.math.cumsum(cumprod2[1:] / tf.math.pow(zp, h) * lam * f[:, 1:, :, :], axis=1) * \\\n",
    "         tf.math.pow(zp, tf.reshape(tf.range(h, dtype=dtype)[1:], (1, -1, 1, 1)) - h)\n",
    "\n",
    "    cp = tf.pad(cp, [(0, 0), (1, 0), (0, 0), (0, 0)], constant_values=cp_bound)\n",
    "\n",
    "    cm = - tf.cumsum()"
   ]
  }
 ],
 "metadata": {
  "kernelspec": {
   "display_name": "Python 3",
   "language": "python",
   "name": "python3"
  },
  "language_info": {
   "codemirror_mode": {
    "name": "ipython",
    "version": 2
   },
   "file_extension": ".py",
   "mimetype": "text/x-python",
   "name": "python",
   "nbconvert_exporter": "python",
   "pygments_lexer": "ipython2",
   "version": "2.7.6"
  }
 },
 "nbformat": 4,
 "nbformat_minor": 0
}