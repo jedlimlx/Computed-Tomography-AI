{
 "cells": [
  {
   "cell_type": "code",
   "execution_count": 215,
   "metadata": {
    "ExecuteTime": {
     "end_time": "2023-05-01T14:57:21.475433Z",
     "start_time": "2023-05-01T14:57:10.274816Z"
    }
   },
   "outputs": [],
   "source": [
    "import tensorflow as tf\n",
    "from perlin_noise import generate_fractal_noise_2d\n",
    "\n",
    "img = generate_fractal_noise_2d(1, [512, 512], [1, 1], init_frequency=1, octaves=8, persistence=0.6)\n",
    "img = tf.clip_by_value(img, -2, 4) + 2\n",
    "img = img / 4"
   ]
  },
  {
   "cell_type": "code",
   "execution_count": 216,
   "metadata": {},
   "outputs": [],
   "source": [
    "img2 = generate_fractal_noise_2d(1, [512, 512], [1, 1], init_frequency=1, octaves=8, persistence=0.6)\n",
    "img2 = tf.clip_by_value(img2, -2, 4) + 2\n",
    "img2 = img2 / 4"
   ]
  },
  {
   "cell_type": "code",
   "execution_count": 217,
   "metadata": {},
   "outputs": [],
   "source": [
    "shuffled = tf.random.shuffle([0, 1, 2, 3, 4, 5, 6]) / 6\n",
    "img = (tf.cast(tf.gather(shuffled, indices=tf.cast(tf.math.rint(img2 * 6), tf.int32)), tf.float32) * 0.5 + 0.5) * img"
   ]
  },
  {
   "cell_type": "code",
   "execution_count": 218,
   "metadata": {},
   "outputs": [
    {
     "data": {
      "text/plain": [
       "<tf.Tensor: shape=(7,), dtype=float64, numpy=\n",
       "array([0.33333333, 0.5       , 0.66666667, 0.83333333, 0.16666667,\n",
       "       0.        , 1.        ])>"
      ]
     },
     "execution_count": 218,
     "metadata": {},
     "output_type": "execute_result"
    }
   ],
   "source": [
    "shuffled"
   ]
  },
  {
   "cell_type": "code",
   "execution_count": 219,
   "metadata": {},
   "outputs": [],
   "source": [
    "from PIL import Image\n",
    "import numpy as np\n",
    "\n",
    "pil = Image.fromarray(img[0].numpy()*255).convert('RGB')\n",
    "pil.save(\"test.png\")"
   ]
  },
  {
   "cell_type": "code",
   "execution_count": null,
   "metadata": {},
   "outputs": [],
   "source": []
  },
  {
   "cell_type": "code",
   "execution_count": null,
   "metadata": {},
   "outputs": [],
   "source": []
  }
 ],
 "metadata": {
  "kernelspec": {
   "display_name": "Python 3 (ipykernel)",
   "language": "python",
   "name": "python3"
  },
  "language_info": {
   "codemirror_mode": {
    "name": "ipython",
    "version": 3
   },
   "file_extension": ".py",
   "mimetype": "text/x-python",
   "name": "python",
   "nbconvert_exporter": "python",
   "pygments_lexer": "ipython3",
   "version": "3.10.4"
  }
 },
 "nbformat": 4,
 "nbformat_minor": 1
}
